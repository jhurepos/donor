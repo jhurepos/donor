{
 "cells": [
  {
   "cell_type": "markdown",
   "metadata": {},
   "source": [
    "# Some code"
   ]
  },
  {
   "cell_type": "code",
   "execution_count": 68,
   "metadata": {},
   "outputs": [],
   "source": [
    "// use data/donor_live, clear\n",
    "// cd data"
   ]
  },
  {
   "cell_type": "code",
   "execution_count": 69,
   "metadata": {},
   "outputs": [
    {
     "name": "stdout",
     "output_type": "stream",
     "text": [
      "  116,654\n"
     ]
    }
   ],
   "source": [
    "count\n",
    "//lookfor age sex race death date \n",
    "\n"
   ]
  },
  {
   "cell_type": "code",
   "execution_count": 70,
   "metadata": {},
   "outputs": [],
   "source": [
    "keep don_age don_race don_recov_dt pers_ssa_death"
   ]
  },
  {
   "cell_type": "code",
   "execution_count": 71,
   "metadata": {},
   "outputs": [
    {
     "name": "stdout",
     "output_type": "stream",
     "text": [
      "  2,121\n"
     ]
    }
   ],
   "source": [
    "//list in 1/10\n",
    "count if !missing(pers_ssa_death)"
   ]
  },
  {
   "cell_type": "code",
   "execution_count": 72,
   "metadata": {},
   "outputs": [],
   "source": [
    "//codebook"
   ]
  },
  {
   "cell_type": "code",
   "execution_count": 73,
   "metadata": {},
   "outputs": [
    {
     "name": "stdout",
     "output_type": "stream",
     "text": [
      "\n",
      "\n",
      "(961 real changes made)\n",
      "\n",
      "\n",
      "\n",
      "       died |      Freq.     Percent        Cum.\n",
      "------------+-----------------------------------\n",
      "          0 |    115,494       99.01       99.01\n",
      "          1 |      1,160        0.99      100.00\n",
      "------------+-----------------------------------\n",
      "      Total |    116,654      100.00\n",
      "\n",
      "\n",
      "(17 real changes made)\n",
      "\n",
      "(bin=50, start=.5, width=177.11)\n",
      "\n",
      "file /Users/apollo/.stata_kernel_cache/graph4.svg saved as SVG format\n",
      "file /Users/apollo/.stata_kernel_cache/graph4.pdf saved as PDF format\n"
     ]
    }
   ],
   "source": [
    "gen died=!missing(pers_ssa_death)\n",
    "replace died=0 if pers_ssa_death>d(30dec2011)\n",
    "gen end_dt=min(pers_ssa_death,d(30dec2011))\n",
    "tab died\n",
    "g days=end_dt-don_recov_dt\n",
    "replace days = .5 if days==0\n",
    "// codebook days\n",
    "hist days"
   ]
  },
  {
   "cell_type": "code",
   "execution_count": 74,
   "metadata": {},
   "outputs": [
    {
     "name": "stdout",
     "output_type": "stream",
     "text": [
      "(0 observations deleted)\n"
     ]
    }
   ],
   "source": [
    "drop if !inrange(days,0,10000)"
   ]
  },
  {
   "cell_type": "code",
   "execution_count": 75,
   "metadata": {},
   "outputs": [
    {
     "name": "stdout",
     "output_type": "stream",
     "text": [
      "  116,654\n"
     ]
    }
   ],
   "source": [
    "count"
   ]
  },
  {
   "cell_type": "code",
   "execution_count": 76,
   "metadata": {},
   "outputs": [
    {
     "name": "stdout",
     "output_type": "stream",
     "text": [
      "\n",
      "\n",
      "Survival-time data settings\n",
      "\n",
      "         Failure event: died!=0 & died<.\n",
      "Observed time interval: (0, days]\n",
      "     Exit on or before: failure\n",
      "\n",
      "--------------------------------------------------------------------------\n",
      "    116,654  total observations\n",
      "          0  exclusions\n",
      "--------------------------------------------------------------------------\n",
      "    116,654  observations remaining, representing\n",
      "      1,160  failures in single-record/single-failure data\n",
      "  407672189  total analysis time at risk and under observation\n",
      "                                                At risk from t =         0\n",
      "                                     Earliest observed entry t =         0\n",
      "                                          Last observed exit t =     8,856\n",
      "\n",
      "\n",
      "        Failure _d: died\n",
      "  Analysis time _t: days\n"
     ]
    }
   ],
   "source": [
    "stset days, fail(died)\n",
    "sts graph, fail per(10000)"
   ]
  },
  {
   "cell_type": "code",
   "execution_count": 77,
   "metadata": {},
   "outputs": [
    {
     "name": "stdout",
     "output_type": "stream",
     "text": [
      "\n",
      "        Failure _d: died\n",
      "  Analysis time _t: days\n",
      "\n",
      "Kaplan–Meier failure function\n",
      "\n",
      "              Beg.              Failure      Std.\n",
      "    Time     total     Fail    function     error     [95% conf. int.]\n",
      "----------------------------------------------------------------------\n",
      "      30    116065       29      0.0002    0.0000     0.0002    0.0004\n",
      "      90    115098       19      0.0004    0.0001     0.0003    0.0005\n",
      "----------------------------------------------------------------------\n",
      "Note: Failure function is calculated over full data and evaluated at\n",
      "      indicated times; it is not calculated from aggregates shown at left.\n"
     ]
    }
   ],
   "source": [
    "sts list, fail at(30 90)"
   ]
  }
 ],
 "metadata": {
  "kernelspec": {
   "display_name": "Stata",
   "language": "stata",
   "name": "stata"
  },
  "language_info": {
   "codemirror_mode": "stata",
   "file_extension": ".do",
   "mimetype": "text/x-stata",
   "name": "stata",
   "version": "15.1"
  },
  "widgets": {
   "application/vnd.jupyter.widget-state+json": {
    "state": {},
    "version_major": 2,
    "version_minor": 0
   }
  }
 },
 "nbformat": 4,
 "nbformat_minor": 4
}
