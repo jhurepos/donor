{
 "cells": [
  {
   "cell_type": "markdown",
   "metadata": {},
   "source": [
    "# Some code"
   ]
  },
  {
   "cell_type": "code",
   "execution_count": 1,
   "metadata": {},
   "outputs": [],
   "source": [
    "qui {\n",
    "global repo https://github.com/jhurepos/donor/raw/main/data/donor_live.dta\n",
    "use \"${repo}\" if don_org1==\"LKI\" | don_org1==\"RKI\" & inrange(don_age,17,90), clear\n",
    "keep don_age don_gender don_race don_recov_dt pers_ssa_death \n",
    "count\n",
    "if 0 {\n",
    "    //race\n",
    "    0, white\n",
    "    16, black\n",
    "    64, asian\n",
    "    2000, hispanic\n",
    "\n",
    "    //race\n",
    "    \"F\", female\n",
    "    \"M\", male\n",
    "    }\n",
    "}"
   ]
  },
  {
   "cell_type": "code",
   "execution_count": 2,
   "metadata": {},
   "outputs": [
    {
     "name": "stdout",
     "output_type": "stream",
     "text": [
      "\n",
      "\n",
      "        Failure _d: died\n"
     ]
    },
    {
     "name": "stdout",
     "output_type": "stream",
     "text": [
      "  Analysis time _t: days\n"
     ]
    },
    {
     "name": "stdout",
     "output_type": "stream",
     "text": [
      "\n",
      "Kaplan–Meier failure function\n"
     ]
    },
    {
     "name": "stdout",
     "output_type": "stream",
     "text": [
      "\n",
      "              Beg.              Failure      Std.\n"
     ]
    },
    {
     "name": "stdout",
     "output_type": "stream",
     "text": [
      "    Time     total     Fail    function     error     [95% conf. int.]\n"
     ]
    },
    {
     "name": "stdout",
     "output_type": "stream",
     "text": [
      "----------------------------------------------------------------------\n"
     ]
    },
    {
     "name": "stdout",
     "output_type": "stream",
     "text": [
      "      30    110980       20      0.0002    0.0000     0.0001    0.0003\n"
     ]
    },
    {
     "name": "stdout",
     "output_type": "stream",
     "text": [
      "      90    110067       11      0.0003    0.0001     0.0002    0.0004\n"
     ]
    },
    {
     "name": "stdout",
     "output_type": "stream",
     "text": [
      "----------------------------------------------------------------------\n"
     ]
    },
    {
     "name": "stdout",
     "output_type": "stream",
     "text": [
      "Note: Failure function is calculated over full data and evaluated at\n"
     ]
    },
    {
     "name": "stdout",
     "output_type": "stream",
     "text": [
      "      indicated times; it is not calculated from aggregates shown at left.\n"
     ]
    }
   ],
   "source": [
    "qui {\n",
    "gen died=!missing(pers_ssa_death)\n",
    "replace died=0 if pers_ssa_death>d(30dec2011)\n",
    "gen end_dt=min(pers_ssa_death,d(30dec2011))\n",
    "// tab died\n",
    "g days=end_dt-don_recov_dt\n",
    "drop if !inrange(days,0,10000)\n",
    "replace days = .5 if days==0\n",
    "stset days, fail(died)\n",
    "sts graph, ///\n",
    "   fail per(10000) ///\n",
    "   ylab(0(1)5) tmax(90) ///\n",
    "   xlab(0(30)90)\n",
    "noi sts list, fail at(30 90)\n",
    "}"
   ]
  },
  {
   "cell_type": "code",
   "execution_count": 3,
   "metadata": {},
   "outputs": [
    {
     "name": "stdout",
     "output_type": "stream",
     "text": [
      "(file ../figures/mort1.png not found)\n"
     ]
    },
    {
     "name": "stdout",
     "output_type": "stream",
     "text": [
      "failed to export to the specified format.\n"
     ]
    },
    {
     "name": "stderr",
     "output_type": "stream",
     "text": [
      "r(198);\n"
     ]
    },
    {
     "name": "stdout",
     "output_type": "stream",
     "text": [
      "\n"
     ]
    }
   ],
   "source": [
    "graph export ../figures/mort1.png, replace"
   ]
  },
  {
   "cell_type": "markdown",
   "metadata": {},
   "source": [
    "![](figures/mort1.png)"
   ]
  },
  {
   "cell_type": "markdown",
   "metadata": {},
   "source": [
    "\n",
    "\n",
    "- [Massie, et al](pdfs/massie_2024.pdf)\n",
    "\n"
   ]
  },
  {
   "cell_type": "markdown",
   "metadata": {},
   "source": [
    "![]()"
   ]
  }
 ],
 "metadata": {
  "kernelspec": {
   "display_name": "Stata",
   "language": "stata",
   "name": "stata"
  },
  "language_info": {
   "codemirror_mode": "stata",
   "file_extension": ".do",
   "mimetype": "text/x-stata",
   "name": "stata",
   "version": "15.1"
  },
  "widgets": {
   "application/vnd.jupyter.widget-state+json": {
    "state": {},
    "version_major": 2,
    "version_minor": 0
   }
  }
 },
 "nbformat": 4,
 "nbformat_minor": 4
}