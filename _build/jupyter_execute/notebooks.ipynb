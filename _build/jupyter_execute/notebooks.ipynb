{
 "cells": [
  {
   "cell_type": "markdown",
   "metadata": {},
   "source": [
    "# Some code"
   ]
  },
  {
   "cell_type": "code",
   "execution_count": 1,
   "metadata": {},
   "outputs": [
    {
     "name": "stdout",
     "output_type": "stream",
     "text": [
      "\n",
      "\n",
      "/Users/apollo/Documents/Rhythm/donor/data\n"
     ]
    }
   ],
   "source": [
    "use data/donor_live, clear\n",
    "cd data"
   ]
  },
  {
   "cell_type": "code",
   "execution_count": 2,
   "metadata": {},
   "outputs": [
    {
     "name": "stdout",
     "output_type": "stream",
     "text": [
      "\n",
      "  186,545\n"
     ]
    },
    {
     "name": "stdout",
     "output_type": "stream",
     "text": [
      "\n",
      "\n",
      "Variable      Storage   Display    Value\n"
     ]
    },
    {
     "name": "stdout",
     "output_type": "stream",
     "text": [
      "    name         type    format    label      Variable label\n"
     ]
    },
    {
     "name": "stdout",
     "output_type": "stream",
     "text": [
      "--------------------------------------------------------------------------------\n"
     ]
    },
    {
     "name": "stdout",
     "output_type": "stream",
     "text": [
      "don_age_in_mo~s int     %10.0g                Donor/s Age in Months\n"
     ]
    },
    {
     "name": "stdout",
     "output_type": "stream",
     "text": [
      "don_age         byte    %10.0g                Calculated Donor Age in Years at\n"
     ]
    },
    {
     "name": "stdout",
     "output_type": "stream",
     "text": [
      "                                                Organ Recovery or Referral Date\n"
     ]
    },
    {
     "name": "stdout",
     "output_type": "stream",
     "text": [
      "don_race        int     %10.0g                Donor/s race\n"
     ]
    },
    {
     "name": "stdout",
     "output_type": "stream",
     "text": [
      "don_race_srtr   str7    %9s                   SRTR Donor Race\n"
     ]
    },
    {
     "name": "stdout",
     "output_type": "stream",
     "text": [
      "don_recov_dt    int     %td..                 Recovery Date (donor to OR)\n"
     ]
    },
    {
     "name": "stdout",
     "output_type": "stream",
     "text": [
      "don_other_govt  str1    %1s                   Secondary source of payment:\n"
     ]
    },
    {
     "name": "stdout",
     "output_type": "stream",
     "text": [
      "                                                US/State Government Agency\n"
     ]
    },
    {
     "name": "stdout",
     "output_type": "stream",
     "text": [
      "don_init_disc~t int     %td..                 Date of Initial Discharge:\n"
     ]
    },
    {
     "name": "stdout",
     "output_type": "stream",
     "text": [
      "don_stat_dt     int     %td..                 Donor Status Date\n"
     ]
    },
    {
     "name": "stdout",
     "output_type": "stream",
     "text": [
      "don_living_do~d byte    %10.0g                Donor/s Cause of Death\n"
     ]
    },
    {
     "name": "stdout",
     "output_type": "stream",
     "text": [
      "pers_ssa_deat~t int     %td..                 Death date determined from SSA\n"
     ]
    },
    {
     "name": "stdout",
     "output_type": "stream",
     "text": [
      "                                                database\n"
     ]
    },
    {
     "name": "stdout",
     "output_type": "stream",
     "text": [
      "don_ki_reo~n_dt int     %td..                 Kidney Reoperation Bleeding\n"
     ]
    },
    {
     "name": "stdout",
     "output_type": "stream",
     "text": [
      "                                                Date//Date:\n"
     ]
    },
    {
     "name": "stdout",
     "output_type": "stream",
     "text": [
      "don_ki_reop_h~t int     %td..                 Kidney Reoperation Hernia Repair\n"
     ]
    },
    {
     "name": "stdout",
     "output_type": "stream",
     "text": [
      "                                                Date//Date:\n"
     ]
    },
    {
     "name": "stdout",
     "output_type": "stream",
     "text": [
      "don_ki_reo~l_dt int     %td..                 Kidney Reoperation Bowel\n"
     ]
    },
    {
     "name": "stdout",
     "output_type": "stream",
     "text": [
      "                                                Obstruction Date//Date:\n"
     ]
    },
    {
     "name": "stdout",
     "output_type": "stream",
     "text": [
      "don_ki_reop_v~t int     %td..                 Kidney Reoperation Vascular\n"
     ]
    },
    {
     "name": "stdout",
     "output_type": "stream",
     "text": [
      "                                                Date//Date:\n"
     ]
    },
    {
     "name": "stdout",
     "output_type": "stream",
     "text": [
      "don_ki_reop_o~t int     %td..                 Kidney Reoperation Other\n"
     ]
    },
    {
     "name": "stdout",
     "output_type": "stream",
     "text": [
      "                                                Date//Date:\n"
     ]
    },
    {
     "name": "stdout",
     "output_type": "stream",
     "text": [
      "don_ki_readm~dt int     %td..                 Kidney Readmission Date//If Yes,\n"
     ]
    },
    {
     "name": "stdout",
     "output_type": "stream",
     "text": [
      "                                                Date of First Readmission:\n"
     ]
    },
    {
     "name": "stdout",
     "output_type": "stream",
     "text": [
      "don_ki_other_~t int     %td..                 Kidney Other Interventional\n"
     ]
    },
    {
     "name": "stdout",
     "output_type": "stream",
     "text": [
      "                                                Procedures Date//Date of\n"
     ]
    },
    {
     "name": "stdout",
     "output_type": "stream",
     "text": [
      "                                                Procedure:\n"
     ]
    },
    {
     "name": "stdout",
     "output_type": "stream",
     "text": [
      "don_li_reop_f~t int     %td..                 Liver Reoperation Liver Failure\n"
     ]
    },
    {
     "name": "stdout",
     "output_type": "stream",
     "text": [
      "                                                Date//Date:\n"
     ]
    },
    {
     "name": "stdout",
     "output_type": "stream",
     "text": [
      "don_li_reo~d_dt int     %td..                 Liver Reoperation Bleeding\n"
     ]
    },
    {
     "name": "stdout",
     "output_type": "stream",
     "text": [
      "                                                Date//Date:\n"
     ]
    },
    {
     "name": "stdout",
     "output_type": "stream",
     "text": [
      "don_li_reo~y_dt int     %td..                 Liver Reoperation Biliary\n"
     ]
    },
    {
     "name": "stdout",
     "output_type": "stream",
     "text": [
      "                                                Date//Date:\n"
     ]
    },
    {
     "name": "stdout",
     "output_type": "stream",
     "text": [
      "don_li_reop_h~t int     %td..                 Liver Reoperation Hernia Repair\n"
     ]
    },
    {
     "name": "stdout",
     "output_type": "stream",
     "text": [
      "                                                Date//Date:\n"
     ]
    },
    {
     "name": "stdout",
     "output_type": "stream",
     "text": [
      "don_li_re~el_dt int     %td..                 Liver Reoperation Bowel\n"
     ]
    },
    {
     "name": "stdout",
     "output_type": "stream",
     "text": [
      "                                                Obstruction Date//Date:\n"
     ]
    },
    {
     "name": "stdout",
     "output_type": "stream",
     "text": [
      "don_li_reop_v~t int     %td..                 Liver Reoperation Vascular\n"
     ]
    },
    {
     "name": "stdout",
     "output_type": "stream",
     "text": [
      "                                                Date//Date:\n"
     ]
    },
    {
     "name": "stdout",
     "output_type": "stream",
     "text": [
      "don_li_reop_o~t int     %td..                 Liver Reoperation Other\n"
     ]
    },
    {
     "name": "stdout",
     "output_type": "stream",
     "text": [
      "                                                Date//Date:\n"
     ]
    },
    {
     "name": "stdout",
     "output_type": "stream",
     "text": [
      "don_li_readm~dt int     %td..                 Liver Readmission Date//If Yes,\n"
     ]
    },
    {
     "name": "stdout",
     "output_type": "stream",
     "text": [
      "                                                Date of First Readmission:\n"
     ]
    },
    {
     "name": "stdout",
     "output_type": "stream",
     "text": [
      "don_li_other_~t int     %td..                 Liver Other Interventional\n"
     ]
    },
    {
     "name": "stdout",
     "output_type": "stream",
     "text": [
      "                                                Procedures Date//Date of\n"
     ]
    },
    {
     "name": "stdout",
     "output_type": "stream",
     "text": [
      "                                                Procedure:\n"
     ]
    },
    {
     "name": "stdout",
     "output_type": "stream",
     "text": [
      "don_lu_readm~dt int     %td..                 Lung Readmission Date//If Yes,\n"
     ]
    },
    {
     "name": "stdout",
     "output_type": "stream",
     "text": [
      "                                                Date of First Readmission:\n"
     ]
    },
    {
     "name": "stdout",
     "output_type": "stream",
     "text": [
      "don_postop_te~t long    %td..                 Most Recent Date of Tests:\n"
     ]
    },
    {
     "name": "stdout",
     "output_type": "stream",
     "text": [
      "don_typ_me~1_dt int     %td..                 Date Typing Complete Class I:\n"
     ]
    },
    {
     "name": "stdout",
     "output_type": "stream",
     "text": [
      "don_typ_me~2_dt int     %td..                 Date Typing Complete Class II:\n"
     ]
    },
    {
     "name": "stdout",
     "output_type": "stream",
     "text": [
      "don_race_amer~n byte    %10.0g                Race: American Indian or Alaskan\n"
     ]
    },
    {
     "name": "stdout",
     "output_type": "stream",
     "text": [
      "                                                Native\n"
     ]
    },
    {
     "name": "stdout",
     "output_type": "stream",
     "text": [
      "don_race_asian  byte    %10.0g                Race: Asian\n"
     ]
    },
    {
     "name": "stdout",
     "output_type": "stream",
     "text": [
      "don_race_blac~n byte    %10.0g                Race: Black or African American\n"
     ]
    },
    {
     "name": "stdout",
     "output_type": "stream",
     "text": [
      "don_race_hisp~o byte    %10.0g                Race: Hispanic or Latino\n"
     ]
    },
    {
     "name": "stdout",
     "output_type": "stream",
     "text": [
      "don_race_nati~n byte    %10.0g                Race: Native Hawaiian or Pacific\n"
     ]
    },
    {
     "name": "stdout",
     "output_type": "stream",
     "text": [
      "                                                Islander\n"
     ]
    },
    {
     "name": "stdout",
     "output_type": "stream",
     "text": [
      "don_race_white  byte    %10.0g                Race: White\n"
     ]
    }
   ],
   "source": [
    "count\n",
    "lookfor age sex race death date \n",
    "\n"
   ]
  },
  {
   "cell_type": "code",
   "execution_count": 3,
   "metadata": {},
   "outputs": [],
   "source": [
    "keep don_age don_race don_recov_dt pers_ssa_death"
   ]
  },
  {
   "cell_type": "code",
   "execution_count": 4,
   "metadata": {},
   "outputs": [
    {
     "name": "stdout",
     "output_type": "stream",
     "text": [
      "\n",
      "\n",
      "     +------------------------------------------+\n"
     ]
    },
    {
     "name": "stdout",
     "output_type": "stream",
     "text": [
      "     | don_age   don_race   don_re~t   pers_s~t |\n"
     ]
    },
    {
     "name": "stdout",
     "output_type": "stream",
     "text": [
      "     |------------------------------------------|\n"
     ]
    },
    {
     "name": "stdout",
     "output_type": "stream",
     "text": [
      "  1. |      23          8   10/06/87          . |\n"
     ]
    },
    {
     "name": "stdout",
     "output_type": "stream",
     "text": [
      "  2. |      36         16   10/20/87          . |\n"
     ]
    },
    {
     "name": "stdout",
     "output_type": "stream",
     "text": [
      "  3. |      35          8   10/22/87          . |\n"
     ]
    },
    {
     "name": "stdout",
     "output_type": "stream",
     "text": [
      "  4. |      34          8   10/27/87          . |\n"
     ]
    },
    {
     "name": "stdout",
     "output_type": "stream",
     "text": [
      "  5. |      22          8   10/21/87          . |\n"
     ]
    },
    {
     "name": "stdout",
     "output_type": "stream",
     "text": [
      "     |------------------------------------------|\n"
     ]
    },
    {
     "name": "stdout",
     "output_type": "stream",
     "text": [
      "  6. |      43          8   10/28/87          . |\n"
     ]
    },
    {
     "name": "stdout",
     "output_type": "stream",
     "text": [
      "  7. |      39         16   10/07/87          . |\n"
     ]
    },
    {
     "name": "stdout",
     "output_type": "stream",
     "text": [
      "  8. |      22          8   10/13/87          . |\n"
     ]
    },
    {
     "name": "stdout",
     "output_type": "stream",
     "text": [
      "  9. |      43          8   10/07/87          . |\n"
     ]
    },
    {
     "name": "stdout",
     "output_type": "stream",
     "text": [
      " 10. |      41          8   10/29/87          . |\n"
     ]
    },
    {
     "name": "stdout",
     "output_type": "stream",
     "text": [
      "     +------------------------------------------+\n"
     ]
    },
    {
     "name": "stdout",
     "output_type": "stream",
     "text": [
      "\n",
      "  2,168\n"
     ]
    }
   ],
   "source": [
    "list in 1/10\n",
    "count if !missing(pers_ssa_death)"
   ]
  },
  {
   "cell_type": "code",
   "execution_count": 5,
   "metadata": {},
   "outputs": [
    {
     "name": "stdout",
     "output_type": "stream",
     "text": [
      "\n",
      "--------------------------------------------------------------------------------\n"
     ]
    },
    {
     "name": "stdout",
     "output_type": "stream",
     "text": [
      "don_age         Calculated Donor Age in Years at Organ Recovery or Referral Date\n"
     ]
    },
    {
     "name": "stdout",
     "output_type": "stream",
     "text": [
      "--------------------------------------------------------------------------------\n"
     ]
    },
    {
     "name": "stdout",
     "output_type": "stream",
     "text": [
      "\n",
      "                  Type: Numeric (byte)\n"
     ]
    },
    {
     "name": "stdout",
     "output_type": "stream",
     "text": [
      "\n",
      "                 Range: [0,95]                        Units: 1\n"
     ]
    },
    {
     "name": "stdout",
     "output_type": "stream",
     "text": [
      "         Unique values: 83                        Missing .: 7/186,545\n"
     ]
    },
    {
     "name": "stdout",
     "output_type": "stream",
     "text": [
      "\n",
      "                  Mean: 40.8679\n"
     ]
    },
    {
     "name": "stdout",
     "output_type": "stream",
     "text": [
      "             Std. dev.: 11.6873\n"
     ]
    },
    {
     "name": "stdout",
     "output_type": "stream",
     "text": [
      "\n",
      "           Percentiles:     10%       25%       50%       75%       90%\n"
     ]
    },
    {
     "name": "stdout",
     "output_type": "stream",
     "text": [
      "                             25        32        40        49        57\n"
     ]
    },
    {
     "name": "stdout",
     "output_type": "stream",
     "text": [
      "\n",
      "--------------------------------------------------------------------------------\n"
     ]
    },
    {
     "name": "stdout",
     "output_type": "stream",
     "text": [
      "don_race                                                            Donor/s race\n"
     ]
    },
    {
     "name": "stdout",
     "output_type": "stream",
     "text": [
      "--------------------------------------------------------------------------------\n"
     ]
    },
    {
     "name": "stdout",
     "output_type": "stream",
     "text": [
      "\n",
      "                  Type: Numeric (int)\n"
     ]
    },
    {
     "name": "stdout",
     "output_type": "stream",
     "text": [
      "\n",
      "                 Range: [8,2000]                      Units: 1\n"
     ]
    },
    {
     "name": "stdout",
     "output_type": "stream",
     "text": [
      "         Unique values: 26                        Missing .: 78/186,545\n"
     ]
    },
    {
     "name": "stdout",
     "output_type": "stream",
     "text": [
      "\n",
      "                  Mean: 272.902\n"
     ]
    },
    {
     "name": "stdout",
     "output_type": "stream",
     "text": [
      "             Std. dev.: 670.961\n"
     ]
    },
    {
     "name": "stdout",
     "output_type": "stream",
     "text": [
      "\n",
      "           Percentiles:     10%       25%       50%       75%       90%\n"
     ]
    },
    {
     "name": "stdout",
     "output_type": "stream",
     "text": [
      "                              8         8         8        16      2000\n"
     ]
    },
    {
     "name": "stdout",
     "output_type": "stream",
     "text": [
      "\n",
      "--------------------------------------------------------------------------------\n"
     ]
    },
    {
     "name": "stdout",
     "output_type": "stream",
     "text": [
      "don_recov_dt                                         Recovery Date (donor to OR)\n"
     ]
    },
    {
     "name": "stdout",
     "output_type": "stream",
     "text": [
      "--------------------------------------------------------------------------------\n"
     ]
    },
    {
     "name": "stdout",
     "output_type": "stream",
     "text": [
      "\n",
      "                  Type: Numeric daily date (int)\n"
     ]
    },
    {
     "name": "stdout",
     "output_type": "stream",
     "text": [
      "\n",
      "                 Range: [10135,23071]                 Units: 1\n"
     ]
    },
    {
     "name": "stdout",
     "output_type": "stream",
     "text": [
      "       Or equivalently: [01oct1987,02mar2023]         Units: days\n"
     ]
    },
    {
     "name": "stdout",
     "output_type": "stream",
     "text": [
      "         Unique values: 9,596                     Missing .: 0/186,545\n"
     ]
    },
    {
     "name": "stdout",
     "output_type": "stream",
     "text": [
      "\n",
      "                  Mean: 17578.1 = 16feb2008(+ 3 hours)\n"
     ]
    },
    {
     "name": "stdout",
     "output_type": "stream",
     "text": [
      "             Std. dev.: 3323.94\n"
     ]
    },
    {
     "name": "stdout",
     "output_type": "stream",
     "text": [
      "           Percentiles:       10%        25%        50%        75%        90%\n"
     ]
    },
    {
     "name": "stdout",
     "output_type": "stream",
     "text": [
      "                            12934      15117      17659      20430      21976\n"
     ]
    },
    {
     "name": "stdout",
     "output_type": "stream",
     "text": [
      "                        31may1995  22may2001  07may2008  08dec2015  02mar2020\n"
     ]
    },
    {
     "name": "stdout",
     "output_type": "stream",
     "text": [
      "\n",
      "--------------------------------------------------------------------------------\n"
     ]
    },
    {
     "name": "stdout",
     "output_type": "stream",
     "text": [
      "pers_ssa_death_dt                        Death date determined from SSA database\n"
     ]
    },
    {
     "name": "stdout",
     "output_type": "stream",
     "text": [
      "--------------------------------------------------------------------------------\n"
     ]
    },
    {
     "name": "stdout",
     "output_type": "stream",
     "text": [
      "\n",
      "                  Type: Numeric daily date (int)\n"
     ]
    },
    {
     "name": "stdout",
     "output_type": "stream",
     "text": [
      "\n",
      "                 Range: [10308,23067]                 Units: 1\n"
     ]
    },
    {
     "name": "stdout",
     "output_type": "stream",
     "text": [
      "       Or equivalently: [22mar1988,26feb2023]         Units: days\n"
     ]
    },
    {
     "name": "stdout",
     "output_type": "stream",
     "text": [
      "         Unique values: 1,887                     Missing .: 184,377/186,545\n"
     ]
    },
    {
     "name": "stdout",
     "output_type": "stream",
     "text": [
      "\n",
      "                  Mean: 18853.5 = 14aug2011(+ 12 hours)\n"
     ]
    },
    {
     "name": "stdout",
     "output_type": "stream",
     "text": [
      "             Std. dev.: 2211.82\n"
     ]
    },
    {
     "name": "stdout",
     "output_type": "stream",
     "text": [
      "           Percentiles:       10%        25%        50%        75%        90%\n"
     ]
    },
    {
     "name": "stdout",
     "output_type": "stream",
     "text": [
      "                            15970    17487.5    18811.5      20441      21900\n"
     ]
    },
    {
     "name": "stdout",
     "output_type": "stream",
     "text": [
      "                        22sep2003  17nov2007  03jul2011  19dec2015  17dec2019\n"
     ]
    }
   ],
   "source": [
    "codebook"
   ]
  }
 ],
 "metadata": {
  "kernelspec": {
   "display_name": "Stata",
   "language": "stata",
   "name": "stata"
  },
  "language_info": {
   "codemirror_mode": "stata",
   "file_extension": ".do",
   "mimetype": "text/x-stata",
   "name": "stata",
   "version": "15.1"
  },
  "widgets": {
   "application/vnd.jupyter.widget-state+json": {
    "state": {},
    "version_major": 2,
    "version_minor": 0
   }
  }
 },
 "nbformat": 4,
 "nbformat_minor": 4
}